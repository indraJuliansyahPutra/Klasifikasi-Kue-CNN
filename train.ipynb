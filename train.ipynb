{
 "cells": [
  {
   "cell_type": "code",
   "execution_count": null,
   "metadata": {
    "_cell_guid": "b1076dfc-b9ad-4769-8c92-a6c4dae69d19",
    "_uuid": "8f2839f25d086af736a60e9eeb907d3b93b6e0e5",
    "execution": {
     "iopub.execute_input": "2025-02-19T08:22:48.031401Z",
     "iopub.status.busy": "2025-02-19T08:22:48.030923Z",
     "iopub.status.idle": "2025-02-19T08:22:51.565231Z",
     "shell.execute_reply": "2025-02-19T08:22:51.564374Z",
     "shell.execute_reply.started": "2025-02-19T08:22:48.031361Z"
    },
    "trusted": true
   },
   "outputs": [],
   "source": [
    "# Cell 1: Import Libraries\n",
    "\n",
    "import os\n",
    "import zipfile\n",
    "import random\n",
    "import warnings\n",
    "import time\n",
    "\n",
    "import numpy as np\n",
    "import pandas as pd\n",
    "from tensorflow.keras.preprocessing.image import ImageDataGenerator, load_img, img_to_array\n",
    "from sklearn.metrics import classification_report, confusion_matrix, precision_score, recall_score, f1_score\n",
    "\n",
    "import tensorflow as tf\n",
    "from tensorflow.keras.models import Sequential, Model\n",
    "from tensorflow.keras.layers import Flatten, Dense, Dropout\n",
    "from tensorflow.keras.applications import VGG19\n",
    "from tensorflow.keras.optimizers import Adam\n",
    "from tensorflow.keras.callbacks import EarlyStopping\n",
    "\n",
    "import matplotlib.pyplot as plt\n",
    "import seaborn as sns\n",
    "from PIL import Image\n",
    "\n",
    "seed_value = 42\n",
    "tf.random.set_seed(seed_value)\n",
    "np.random.seed(seed_value)\n",
    "random.seed(seed_value)\n",
    "\n",
    "warnings.filterwarnings('ignore')\n",
    "\n",
    "print(\"Libraries imported successfully!\")"
   ]
  },
  {
   "cell_type": "code",
   "execution_count": null,
   "metadata": {
    "execution": {
     "iopub.execute_input": "2025-02-19T08:22:51.566962Z",
     "iopub.status.busy": "2025-02-19T08:22:51.566431Z",
     "iopub.status.idle": "2025-02-19T08:22:51.574287Z",
     "shell.execute_reply": "2025-02-19T08:22:51.573273Z",
     "shell.execute_reply.started": "2025-02-19T08:22:51.566936Z"
    },
    "trusted": true
   },
   "outputs": [],
   "source": [
    "# Cell 2: Fungsi untuk mendapatkan informasi gambar\n",
    "def get_image_size(path):\n",
    "    unique_size = set()\n",
    "    for root, _, files in os.walk(path):\n",
    "        for file in files:\n",
    "            if file.lower().endswith(('jpg', 'jpeg', 'png')):\n",
    "                file_path = os.path.join(root, file)\n",
    "                with Image.open(file_path) as img:\n",
    "                    unique_size.add(img.size)\n",
    "    return unique_size\n",
    "\n",
    "def count_images_in_categories(path):\n",
    "    category_counts = {}\n",
    "    for category in os.listdir(path):\n",
    "        category_path = os.path.join(path, category)\n",
    "        if os.path.isdir(category_path):\n",
    "            category_counts[category] = len(os.listdir(category_path))\n",
    "    return category_counts\n",
    "\n",
    "def display_image_info(train_dir, val_dir, test_dir):\n",
    "    print(\"Ukuran Gambar:\")\n",
    "    for dir_path, label in zip([train_dir, val_dir, test_dir], ['Train', 'Val', 'Test']):\n",
    "        print(f\"{label} Unique Image Sizes: {get_image_size(dir_path)}\")\n",
    "\n",
    "    for dir_path, label in zip([train_dir, val_dir, test_dir], ['Train', 'Val', 'Test']):\n",
    "        print(f\"\\nJumlah gambar di masing-masing kategori ({label}):\")\n",
    "        category_counts = count_images_in_categories(dir_path)\n",
    "        for category, count in category_counts.items():\n",
    "            print(f\"{category}: {count} gambar\")"
   ]
  },
  {
   "cell_type": "code",
   "execution_count": null,
   "metadata": {
    "execution": {
     "iopub.execute_input": "2025-02-19T08:22:51.575982Z",
     "iopub.status.busy": "2025-02-19T08:22:51.575776Z",
     "iopub.status.idle": "2025-02-19T08:22:51.598716Z",
     "shell.execute_reply": "2025-02-19T08:22:51.597735Z",
     "shell.execute_reply.started": "2025-02-19T08:22:51.575964Z"
    },
    "trusted": true
   },
   "outputs": [],
   "source": [
    "# Cell 3: Fungsi untuk menampilkan gambar contoh\n",
    "def display_sample_image(path, title):\n",
    "    print('\\n' + '='*50 + ' Display Sample Image ' + '='*50 + '\\n')\n",
    "    plt.figure(figsize=(20, 3))\n",
    "    categories = os.listdir(path)\n",
    "    for i, category in enumerate(categories):\n",
    "        category_path = os.path.join(path, category)\n",
    "        if os.path.isdir(category_path):\n",
    "            image_files = os.listdir(category_path)\n",
    "            random_image = random.choice(image_files)\n",
    "            image_path = os.path.join(category_path, random_image)\n",
    "\n",
    "            img = Image.open(image_path)\n",
    "\n",
    "            plt.subplot(1, 8, i + 1)\n",
    "            plt.imshow(img)\n",
    "            plt.axis('off')\n",
    "            plt.title(f'{category}')\n",
    "\n",
    "    plt.suptitle(f'{title}')\n",
    "    plt.show()"
   ]
  },
  {
   "cell_type": "code",
   "execution_count": null,
   "metadata": {
    "execution": {
     "iopub.execute_input": "2025-02-19T08:22:51.600638Z",
     "iopub.status.busy": "2025-02-19T08:22:51.600275Z",
     "iopub.status.idle": "2025-02-19T08:22:51.612356Z",
     "shell.execute_reply": "2025-02-19T08:22:51.611397Z",
     "shell.execute_reply.started": "2025-02-19T08:22:51.600604Z"
    },
    "trusted": true
   },
   "outputs": [],
   "source": [
    "# Cell 4: Fungsi untuk menginisialisasi data generator\n",
    "def initialize_data_generators(train_dir, val_dir, test_dir, img_height, img_width, batch_size, seed_value):\n",
    "    print('\\n' + '='*50 + ' Initialize Data Generator ' + '='*50 + '\\n')\n",
    "    train_datagen = ImageDataGenerator(\n",
    "        rescale=1./255,\n",
    "        rotation_range=20,\n",
    "        width_shift_range=0.2,\n",
    "        height_shift_range=0.2,\n",
    "        shear_range=0.2,\n",
    "        zoom_range=0.2,\n",
    "        horizontal_flip=True\n",
    "    )\n",
    "    val_datagen = ImageDataGenerator(rescale=1./255)\n",
    "    test_datagen = ImageDataGenerator(rescale=1./255)\n",
    "\n",
    "    train_generator = train_datagen.flow_from_directory(\n",
    "        train_dir,\n",
    "        target_size=(img_height, img_width),\n",
    "        batch_size=batch_size,\n",
    "        class_mode='categorical',\n",
    "        shuffle=True,\n",
    "        seed=seed_value\n",
    "    )\n",
    "    val_generator = val_datagen.flow_from_directory(\n",
    "        val_dir,\n",
    "        target_size=(img_height, img_width),\n",
    "        batch_size=batch_size,\n",
    "        class_mode='categorical',\n",
    "        shuffle=True,\n",
    "        seed=seed_value\n",
    "    )\n",
    "    test_generator = test_datagen.flow_from_directory(\n",
    "        test_dir,\n",
    "        target_size=(img_height, img_width),\n",
    "        batch_size=batch_size,\n",
    "        class_mode='categorical',\n",
    "        shuffle=False,\n",
    "        seed=seed_value\n",
    "    )\n",
    "\n",
    "    return train_generator, val_generator, test_generator"
   ]
  },
  {
   "cell_type": "code",
   "execution_count": null,
   "metadata": {
    "execution": {
     "iopub.execute_input": "2025-02-19T08:22:51.613548Z",
     "iopub.status.busy": "2025-02-19T08:22:51.613230Z",
     "iopub.status.idle": "2025-02-19T08:22:51.624417Z",
     "shell.execute_reply": "2025-02-19T08:22:51.623698Z",
     "shell.execute_reply.started": "2025-02-19T08:22:51.613511Z"
    },
    "trusted": true
   },
   "outputs": [],
   "source": [
    "# Cell 5: Fungsi untuk membangun model\n",
    "def build_model(img_height, img_width, num_classes, trainable=True):\n",
    "    print('\\n' + '='*50 + ' Build Model ' + '='*50 + '\\n')\n",
    "    base_model = VGG19(weights='imagenet', include_top=False, input_shape=(img_height, img_width, 3))\n",
    "    nama_arsitektur = base_model.name\n",
    "    for layer in base_model.layers:\n",
    "      layer.trainable = layer.trainable = trainable\n",
    "      if layer.trainable:\n",
    "          kondisi_layer = 'Unfreeze'\n",
    "      else:\n",
    "          kondisi_layer = 'Freeze'\n",
    "    \n",
    "    for layer in base_model.layers: \n",
    "        print(f'{layer.name}: {layer.trainable}')\n",
    "\n",
    "    x = Flatten()(base_model.output)\n",
    "    x = Dense(512, activation='relu')(x)\n",
    "    x = Dropout(0.5)(x)\n",
    "    output = Dense(num_classes, activation='softmax')(x)\n",
    "\n",
    "    model = Model(inputs=base_model.input, outputs=output)\n",
    "    model.summary()\n",
    "    return model, nama_arsitektur, kondisi_layer"
   ]
  },
  {
   "cell_type": "code",
   "execution_count": null,
   "metadata": {
    "execution": {
     "iopub.execute_input": "2025-02-19T08:22:51.625555Z",
     "iopub.status.busy": "2025-02-19T08:22:51.625308Z",
     "iopub.status.idle": "2025-02-19T08:22:51.644137Z",
     "shell.execute_reply": "2025-02-19T08:22:51.643104Z",
     "shell.execute_reply.started": "2025-02-19T08:22:51.625532Z"
    },
    "trusted": true
   },
   "outputs": [],
   "source": [
    "# Cell 6: Fungsi untuk melatih model\n",
    "def train_model(model, train_generator, val_generator, learning_rate, epochs, nama_arsitektur, kondisi_layer, batch_size):\n",
    "    print('\\n' + '='*50 + ' Train Model ' + '='*50 + '\\n')\n",
    "    early_stopping = EarlyStopping(monitor='val_loss', patience=5, restore_best_weights=True)\n",
    "    model.compile(optimizer=Adam(learning_rate=learning_rate), loss='categorical_crossentropy', metrics=['accuracy'])\n",
    "\n",
    "    start_time = time.time()\n",
    "    history = model.fit(\n",
    "        train_generator,\n",
    "        epochs=epochs,\n",
    "        validation_data=val_generator,\n",
    "        callbacks=[early_stopping],\n",
    "        verbose=1\n",
    "    )\n",
    "    end_time = time.time()\n",
    "\n",
    "    nama_model = f'{nama_arsitektur}_{kondisi_layer}_{learning_rate}_{batch_size}_model'\n",
    "    model.save(f\"{nama_model}.h5\")\n",
    "    model_file_size = os.path.getsize(f\"{nama_model}.h5\") / (1024 * 1024)\n",
    "    print(f\"Model saved as {nama_model}.h5\")\n",
    "\n",
    "    return history, end_time - start_time, model_file_size"
   ]
  },
  {
   "cell_type": "code",
   "execution_count": null,
   "metadata": {
    "execution": {
     "iopub.execute_input": "2025-02-19T08:22:51.645487Z",
     "iopub.status.busy": "2025-02-19T08:22:51.645154Z",
     "iopub.status.idle": "2025-02-19T08:22:51.661710Z",
     "shell.execute_reply": "2025-02-19T08:22:51.660721Z",
     "shell.execute_reply.started": "2025-02-19T08:22:51.645455Z"
    },
    "trusted": true
   },
   "outputs": [],
   "source": [
    "# Cell 7: Fungsi untuk evaluasi model\n",
    "def evaluate_model(model, test_generator):\n",
    "    print('\\n' + '='*50 + ' Evaluating Model ' + '='*50 + '\\n')\n",
    "    test_loss, test_accuracy = model.evaluate(test_generator, verbose=1)\n",
    "\n",
    "    predictions = model.predict(test_generator)\n",
    "    predicted_classes = np.argmax(predictions, axis=1)\n",
    "    true_classes = test_generator.classes\n",
    "    class_labels = list(test_generator.class_indices.keys())\n",
    "\n",
    "    precision = precision_score(true_classes, predicted_classes, average='weighted')\n",
    "    recall = recall_score(true_classes, predicted_classes, average='weighted')\n",
    "    f1 = f1_score(true_classes, predicted_classes, average='weighted')\n",
    "\n",
    "    report = classification_report(true_classes, predicted_classes, target_names=class_labels)\n",
    "    conf_matrix = confusion_matrix(true_classes, predicted_classes)\n",
    "\n",
    "    return test_loss, test_accuracy, precision, recall, f1, report, conf_matrix, class_labels"
   ]
  },
  {
   "cell_type": "code",
   "execution_count": null,
   "metadata": {
    "execution": {
     "iopub.execute_input": "2025-02-19T08:22:51.664161Z",
     "iopub.status.busy": "2025-02-19T08:22:51.663904Z",
     "iopub.status.idle": "2025-02-19T08:22:51.678874Z",
     "shell.execute_reply": "2025-02-19T08:22:51.677904Z",
     "shell.execute_reply.started": "2025-02-19T08:22:51.664139Z"
    },
    "trusted": true
   },
   "outputs": [],
   "source": [
    "# Cell 8: Fungsi untuk membuat plot\n",
    "def plot_results(history, stopped_epoch, conf_matrix, class_labels, nama_arsitektur, batch_size, learning_rate, kondisi_layer):\n",
    "    print('\\n' + '='*50 + ' Show Plot and Confusion Matrix ' + '='*50 + '\\n')\n",
    "    epochs_range = range(stopped_epoch)\n",
    "\n",
    "    # Accuracy Plot\n",
    "    plt.figure(figsize=(16, 10))\n",
    "    plt.plot(epochs_range, history.history['accuracy'], label='Train Accuracy')\n",
    "    plt.plot(epochs_range, history.history['val_accuracy'], label='Validation Accuracy')\n",
    "    plt.legend(loc='lower right')\n",
    "    plt.ylim(0, 1)\n",
    "    plt.title(f\"Accuracy Plot (Arsitektur: {nama_arsitektur}, Batch Size: {batch_size}, Learning Rate: {learning_rate}, Pengaturan Layer: {kondisi_layer})\")\n",
    "    plt.savefig(f\"{nama_arsitektur}_{kondisi_layer}_{learning_rate}_{batch_size}_accuracy.png\")\n",
    "    plt.show()\n",
    "\n",
    "    # Loss Plot\n",
    "    plt.figure(figsize=(16, 10))\n",
    "    plt.plot(epochs_range, history.history['loss'], label='Train Loss')\n",
    "    plt.plot(epochs_range, history.history['val_loss'], label='Validation Loss')\n",
    "    plt.legend(loc='upper right')\n",
    "    plt.ylim(0, None)\n",
    "    plt.title(f\"Loss Plot (Arsitektur: {nama_arsitektur}, Batch Size: {batch_size}, Learning Rate: {learning_rate}, Pengaturan Layer: {kondisi_layer})\")\n",
    "    plt.savefig(f\"{nama_arsitektur}_{kondisi_layer}_{learning_rate}_{batch_size}_loss.png\")\n",
    "    plt.show()\n",
    "\n",
    "    # Confusion Matrix Plot\n",
    "    plt.figure(figsize=(16, 10))\n",
    "    sns.heatmap(conf_matrix, annot=True, fmt='d', cmap='Blues', xticklabels=class_labels, yticklabels=class_labels)\n",
    "    plt.title(f\"Confusion Matrix (Arsitektur: {nama_arsitektur}, Batch Size: {batch_size}, Learning Rate: {learning_rate}, Pengaturan Layer: {kondisi_layer})\")\n",
    "    plt.savefig(f\"{nama_arsitektur}_{kondisi_layer}_{learning_rate}_{batch_size}_confusion_matrix.png\")\n",
    "    plt.show()\n"
   ]
  },
  {
   "cell_type": "code",
   "execution_count": null,
   "metadata": {
    "execution": {
     "iopub.execute_input": "2025-02-19T08:22:51.680352Z",
     "iopub.status.busy": "2025-02-19T08:22:51.680020Z",
     "iopub.status.idle": "2025-02-19T08:22:51.696114Z",
     "shell.execute_reply": "2025-02-19T08:22:51.695177Z",
     "shell.execute_reply.started": "2025-02-19T08:22:51.680318Z"
    },
    "trusted": true
   },
   "outputs": [],
   "source": [
    "# Cell 9: Memanggil semua fungsi\n",
    "def run_experiment(batch_size, learning_rate, trainable):\n",
    "    # Path dataset\n",
    "    train_dir = 'dataset/train'\n",
    "    val_dir = 'dataset/val'\n",
    "    test_dir = 'dataset/test'\n",
    "\n",
    "    # Hyperparameters\n",
    "    img_height = 224\n",
    "    img_width = 224\n",
    "    epochs = 50\n",
    "\n",
    "    display_image_info(train_dir, val_dir, test_dir)\n",
    "    display_sample_image(train_dir, 'Sample Images from Train Directory')\n",
    "    display_sample_image(val_dir, 'Sample Images from Val Directory')\n",
    "    display_sample_image(test_dir, 'Sample Images from Test Directory')\n",
    "\n",
    "    train_generator, val_generator, test_generator = initialize_data_generators(\n",
    "        train_dir, val_dir, test_dir, img_height, img_width, batch_size, seed_value=42\n",
    "    )\n",
    "\n",
    "    model, nama_arsitektur, kondisi_layer = build_model(img_height, img_width, num_classes=8, trainable=trainable)\n",
    "    history, training_time, model_file_size = train_model(model, train_generator, val_generator, learning_rate, epochs, nama_arsitektur, kondisi_layer, batch_size)\n",
    "    stopped_epoch = len(history.history['accuracy'])\n",
    "\n",
    "    test_loss, test_accuracy, precision, recall, f1, report, conf_matrix, class_labels = evaluate_model(model, test_generator)\n",
    "    print(report)\n",
    "\n",
    "    plot_results(history, stopped_epoch, conf_matrix, class_labels, nama_arsitektur, batch_size, learning_rate, kondisi_layer)\n",
    "\n",
    "    metadata = {\n",
    "        \"Nama Arsitektur\": [nama_arsitektur],\n",
    "        \"Kondisi Layer\": [kondisi_layer],\n",
    "        \"Learning Rate\": [learning_rate],\n",
    "        \"Batch Size\": [batch_size],\n",
    "        \"Train Accuracy\": [max(history.history['accuracy'])],\n",
    "        \"Val Accuracy\": [max(history.history['val_accuracy'])],\n",
    "        \"Test Accuracy\": [test_accuracy],\n",
    "        \"Train Loss\": [min(history.history['loss'])],\n",
    "        \"Val Loss\": [min(history.history['val_loss'])],\n",
    "        \"Test Loss\": [test_loss],\n",
    "        \"Precision\": [precision],\n",
    "        \"Recall\": [recall],\n",
    "        \"F1-Score\": [f1],\n",
    "        \"Epoch Berhenti\": [stopped_epoch],\n",
    "        \"Waktu Pelatihan (s)\": [training_time],\n",
    "        \"Besaran File (MB)\": [model_file_size]\n",
    "    }\n",
    "    \n",
    "    metadata_df = pd.DataFrame(metadata)\n",
    "    \n",
    "    metadata_df.to_csv(f\"{nama_arsitektur}_{kondisi_layer}_{learning_rate}_{batch_size}_training_metadata.csv\", index=False)\n",
    "    \n",
    "    print(f\"Metadata DataFrame created and saved as {nama_arsitektur}_{kondisi_layer}_{learning_rate}_{batch_size}_training_metadata.csv\")"
   ]
  },
  {
   "cell_type": "code",
   "execution_count": null,
   "metadata": {
    "execution": {
     "iopub.execute_input": "2025-02-19T08:22:51.697525Z",
     "iopub.status.busy": "2025-02-19T08:22:51.697175Z",
     "iopub.status.idle": "2025-02-19T08:56:00.761382Z",
     "shell.execute_reply": "2025-02-19T08:56:00.760466Z",
     "shell.execute_reply.started": "2025-02-19T08:22:51.697492Z"
    },
    "trusted": true
   },
   "outputs": [],
   "source": [
    "run_experiment(batch_size=128, learning_rate=1e-3, trainable=False)"
   ]
  }
 ],
 "metadata": {
  "kaggle": {
   "accelerator": "none",
   "dataSources": [],
   "isGpuEnabled": false,
   "isInternetEnabled": true,
   "language": "python",
   "sourceType": "notebook"
  },
  "kernelspec": {
   "display_name": "Python 3",
   "language": "python",
   "name": "python3"
  },
  "language_info": {
   "codemirror_mode": {
    "name": "ipython",
    "version": 3
   },
   "file_extension": ".py",
   "mimetype": "text/x-python",
   "name": "python",
   "nbconvert_exporter": "python",
   "pygments_lexer": "ipython3",
   "version": "3.9.2"
  }
 },
 "nbformat": 4,
 "nbformat_minor": 4
}
